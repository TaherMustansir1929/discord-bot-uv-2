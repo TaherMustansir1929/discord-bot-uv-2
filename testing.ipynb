{
 "cells": [
  {
   "cell_type": "code",
   "execution_count": 5,
   "id": "4bae4a1f",
   "metadata": {},
   "outputs": [
    {
     "name": "stdout",
     "output_type": "stream",
     "text": [
      "Random Waifu URL: https://i.waifu.pics/-oA3loc.png\n",
      "Image saved successfully: images/waifu/waifu.png\n"
     ]
    }
   ],
   "source": [
    "import requests\n",
    "import os\n",
    "\n",
    "response = requests.get(\"https://api.waifu.pics/sfw/waifu\")\n",
    "data = response.json()\n",
    "\n",
    "url = data[\"url\"]\n",
    "\n",
    "print(f\"Random Waifu URL: {url}\")\n",
    "\n",
    "image_response = requests.get(url)\n",
    "image_response.raise_for_status()\n",
    "\n",
    "parent_dir = \"images/waifu\"\n",
    "file_path = os.path.join(parent_dir, \"waifu.png\")\n",
    "\n",
    "with open(file_path, \"wb\") as f:\n",
    "  f.write(image_response.content)\n",
    "\n",
    "print(f\"Image saved successfully: {file_path}\")"
   ]
  }
 ],
 "metadata": {
  "kernelspec": {
   "display_name": "zeos-sarcastic-cat-uv",
   "language": "python",
   "name": "python3"
  },
  "language_info": {
   "codemirror_mode": {
    "name": "ipython",
    "version": 3
   },
   "file_extension": ".py",
   "mimetype": "text/x-python",
   "name": "python",
   "nbconvert_exporter": "python",
   "pygments_lexer": "ipython3",
   "version": "3.12.11"
  }
 },
 "nbformat": 4,
 "nbformat_minor": 5
}
